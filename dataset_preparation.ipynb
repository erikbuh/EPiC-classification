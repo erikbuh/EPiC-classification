{
 "cells": [
  {
   "cell_type": "code",
   "execution_count": 58,
   "metadata": {},
   "outputs": [],
   "source": [
    "import numpy as np\n",
    "\n",
    "type = 'gluon'\n",
    "particle_no = '150'"
   ]
  },
  {
   "cell_type": "code",
   "execution_count": 59,
   "metadata": {},
   "outputs": [],
   "source": [
    "real_train = np.load(\"/beegfs/desy/user/buhmae/7_EPiC-classification/dataset/real/{}_jetnet{}__train.npy\".format(type, particle_no))\n",
    "real_val = np.load(\"/beegfs/desy/user/buhmae/7_EPiC-classification/dataset/real/{}_jetnet{}__val.npy\".format(type, particle_no))\n",
    "real_test = np.load(\"/beegfs/desy/user/buhmae/7_EPiC-classification/dataset/real/{}_jetnet{}__test.npy\".format(type, particle_no))\n",
    "\n",
    "fake = np.load(\"/beegfs/desy/user/buhmae/7_EPiC-classification/dataset/fake/EPiC-GAN_200k_{}_{}.npy\".format(type, particle_no))\n",
    "\n",
    "\n",
    "\n",
    "\n",
    "output_folder = \"/beegfs/desy/user/buhmae/7_EPiC-classification/dataset/mixed/\"\n"
   ]
  },
  {
   "cell_type": "code",
   "execution_count": 60,
   "metadata": {},
   "outputs": [
    {
     "data": {
      "text/plain": [
       "((124076, 150, 3), (200000, 150, 3))"
      ]
     },
     "execution_count": 60,
     "metadata": {},
     "output_type": "execute_result"
    }
   ],
   "source": [
    "real_train.shape, fake.shape"
   ]
  },
  {
   "cell_type": "code",
   "execution_count": 61,
   "metadata": {},
   "outputs": [
    {
     "data": {
      "text/plain": [
       "((248152, 150, 3), (53176, 150, 3), (53176, 150, 3))"
      ]
     },
     "execution_count": 61,
     "metadata": {},
     "output_type": "execute_result"
    }
   ],
   "source": [
    "train = np.concatenate((real_train, fake[:real_train.shape[0]]))\n",
    "val = np.concatenate((real_val, fake[real_train.shape[0]:real_train.shape[0]+real_val.shape[0]]))\n",
    "test = np.concatenate((real_test, fake[real_train.shape[0]+real_val.shape[0]:real_train.shape[0]+real_val.shape[0]+real_test.shape[0]]))\n",
    "\n",
    "train.shape, val.shape, test.shape"
   ]
  },
  {
   "cell_type": "code",
   "execution_count": 62,
   "metadata": {},
   "outputs": [
    {
     "data": {
      "text/plain": [
       "((248152,), (53176,), (53176,))"
      ]
     },
     "execution_count": 62,
     "metadata": {},
     "output_type": "execute_result"
    }
   ],
   "source": [
    "label_train = np.concatenate((np.ones(real_train.shape[0]), np.zeros(real_train.shape[0])))\n",
    "label_val = np.concatenate((np.ones(real_val.shape[0]), np.zeros(real_val.shape[0])))\n",
    "label_test = np.concatenate((np.ones(real_test.shape[0]), np.zeros(real_test.shape[0])))\n",
    "\n",
    "label_train.shape, label_val.shape, label_test.shape"
   ]
  },
  {
   "cell_type": "code",
   "execution_count": 63,
   "metadata": {},
   "outputs": [],
   "source": [
    "# permute the data\n",
    "shuffle_mask = np.random.permutation(train.shape[0])\n",
    "train = train[shuffle_mask]\n",
    "label_train = label_train[shuffle_mask]\n",
    "\n",
    "shuffle_mask = np.random.permutation(val.shape[0])\n",
    "val = val[shuffle_mask]\n",
    "label_val = label_val[shuffle_mask]\n",
    "\n",
    "shuffle_mask = np.random.permutation(test.shape[0])\n",
    "test = test[shuffle_mask]\n",
    "label_test = label_test[shuffle_mask]"
   ]
  },
  {
   "cell_type": "code",
   "execution_count": 64,
   "metadata": {},
   "outputs": [
    {
     "name": "stdout",
     "output_type": "stream",
     "text": [
      "saving done\n"
     ]
    }
   ],
   "source": [
    "# save files to disk\n",
    "np.savez_compressed(output_folder + \"{}_jetnet{}_train.npz\".format(type, particle_no), data=train, labels=label_train)\n",
    "np.savez_compressed(output_folder + \"{}_jetnet{}_val.npz\".format(type, particle_no), data=val, labels=label_val)\n",
    "np.savez_compressed(output_folder + \"{}_jetnet{}_test.npz\".format(type, particle_no), data=test, labels=label_test)\n",
    "print('saving done')"
   ]
  },
  {
   "cell_type": "code",
   "execution_count": null,
   "metadata": {},
   "outputs": [],
   "source": []
  },
  {
   "cell_type": "code",
   "execution_count": null,
   "metadata": {},
   "outputs": [],
   "source": []
  }
 ],
 "metadata": {
  "kernelspec": {
   "display_name": "torch16_EF",
   "language": "python",
   "name": "python3"
  },
  "language_info": {
   "codemirror_mode": {
    "name": "ipython",
    "version": 3
   },
   "file_extension": ".py",
   "mimetype": "text/x-python",
   "name": "python",
   "nbconvert_exporter": "python",
   "pygments_lexer": "ipython3",
   "version": "3.8.5"
  },
  "orig_nbformat": 4,
  "vscode": {
   "interpreter": {
    "hash": "e25f8c5ce8e793f3448ab03e01b84c1c01d5b043d34ea93a341792c3ace5421c"
   }
  }
 },
 "nbformat": 4,
 "nbformat_minor": 2
}
